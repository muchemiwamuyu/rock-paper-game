{
 "cells": [
  {
   "cell_type": "markdown",
   "id": "367149d3",
   "metadata": {},
   "source": [
    "THIS IS A ROCK-PAPER SCISSORS GAME"
   ]
  },
  {
   "cell_type": "code",
   "execution_count": 33,
   "id": "9f96afac",
   "metadata": {},
   "outputs": [
    {
     "name": "stdout",
     "output_type": "stream",
     "text": [
      "\n",
      " user choice: Paper\n",
      "\n",
      " computer choice: Paper\n",
      "You tied\n"
     ]
    }
   ],
   "source": [
    "import random\n",
    "\n",
    "listed = [\"Rock\", \"Paper\", \"Scissors\"]\n",
    "\n",
    "compute_choice = random.choice(listed)\n",
    "\n",
    "user_choice = input('you pick:').capitalize()\n",
    "\n",
    "print(f\"\\n user choice: {user_choice}\")\n",
    "print(f\"\\n computer choice: {compute_choice}\")\n",
    "\n",
    "if user_choice == compute_choice:\n",
    "    print(\"You tied\")\n",
    "elif (user_choice == \"Rock\" and compute_choice == \"Scissors\") or \\\n",
    "    (user_choice == \"Paper\" and compute_choice == \"Rock\") or \\\n",
    "    (user_choice == \"Scissors\" and compute_choice == \"Paper\"):\n",
    "    print(\"You win\")\n",
    "else:\n",
    "    print(\"Invalid input. Please choose rock paper or scissors\")\n",
    "\n"
   ]
  }
 ],
 "metadata": {
  "kernelspec": {
   "display_name": "rock",
   "language": "python",
   "name": "python3"
  },
  "language_info": {
   "codemirror_mode": {
    "name": "ipython",
    "version": 3
   },
   "file_extension": ".py",
   "mimetype": "text/x-python",
   "name": "python",
   "nbconvert_exporter": "python",
   "pygments_lexer": "ipython3",
   "version": "3.13.3"
  }
 },
 "nbformat": 4,
 "nbformat_minor": 5
}
